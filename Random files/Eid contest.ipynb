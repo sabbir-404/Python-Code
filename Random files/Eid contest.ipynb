{
 "cells": [
  {
   "cell_type": "code",
   "execution_count": 3,
   "metadata": {},
   "outputs": [
    {
     "name": "stdout",
     "output_type": "stream",
     "text": [
      "Yes\n",
      "None\n"
     ]
    }
   ],
   "source": [
    "def probA(d, t, s):\n",
    "    if (d / s) <= t:\n",
    "        print('Yes')\n",
    "    else:\n",
    "        print('No')\n",
    "\n",
    "d,t,s = (input().split())\n",
    "probA(int(d), int(t), int(s))"
   ]
  },
  {
   "cell_type": "code",
   "execution_count": null,
   "metadata": {},
   "outputs": [],
   "source": [
    "data = []\n",
    "for i in range(int(input())):\n",
    "    first, last = input().split()\n",
    "    data.append([first, last])\n",
    "\n",
    "result = \"No\"\n",
    "for name in data:\n",
    "    for same_name in data:\n",
    "        if name[1] == same_name[2]:\n",
    "            result = 'Yes'\n",
    "\n",
    "            "
   ]
  }
 ],
 "metadata": {
  "kernelspec": {
   "display_name": "Python 3",
   "language": "python",
   "name": "python3"
  },
  "language_info": {
   "codemirror_mode": {
    "name": "ipython",
    "version": 3
   },
   "file_extension": ".py",
   "mimetype": "text/x-python",
   "name": "python",
   "nbconvert_exporter": "python",
   "pygments_lexer": "ipython3",
   "version": "3.12.4"
  }
 },
 "nbformat": 4,
 "nbformat_minor": 2
}
