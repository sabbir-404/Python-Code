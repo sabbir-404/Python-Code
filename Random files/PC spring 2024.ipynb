{
 "cells": [
  {
   "cell_type": "code",
   "execution_count": 17,
   "metadata": {},
   "outputs": [
    {
     "ename": "KeyboardInterrupt",
     "evalue": "",
     "output_type": "error",
     "traceback": [
      "\u001b[1;31m---------------------------------------------------------------------------\u001b[0m",
      "\u001b[1;31mKeyboardInterrupt\u001b[0m                         Traceback (most recent call last)",
      "Cell \u001b[1;32mIn[17], line 50\u001b[0m\n\u001b[0;32m     47\u001b[0m     ins \u001b[38;5;241m=\u001b[39m \u001b[38;5;28mstr\u001b[39m(tmp_data \u001b[38;5;241m+\u001b[39m \u001b[38;5;28mint\u001b[39m(ins))\n\u001b[0;32m     48\u001b[0m     \u001b[38;5;28;01mreturn\u001b[39;00m ins\n\u001b[1;32m---> 50\u001b[0m \u001b[38;5;28mprint\u001b[39m(\u001b[43marithmetic\u001b[49m\u001b[43m(\u001b[49m\u001b[38;5;124;43m'\u001b[39;49m\u001b[38;5;124;43m3+2x4!!\u001b[39;49m\u001b[38;5;124;43m'\u001b[39;49m\u001b[43m)\u001b[49m)\n",
      "Cell \u001b[1;32mIn[17], line 25\u001b[0m, in \u001b[0;36marithmetic\u001b[1;34m(ins)\u001b[0m\n\u001b[0;32m     23\u001b[0m fact_c \u001b[38;5;241m=\u001b[39m \u001b[38;5;241m0\u001b[39m\n\u001b[0;32m     24\u001b[0m t \u001b[38;5;241m=\u001b[39m i\n\u001b[1;32m---> 25\u001b[0m \u001b[38;5;28;01mwhile\u001b[39;00m \u001b[38;5;28;01mTrue\u001b[39;00m:\n\u001b[0;32m     26\u001b[0m     \u001b[38;5;28;01mif\u001b[39;00m ins[t] \u001b[38;5;241m==\u001b[39m \u001b[38;5;124m'\u001b[39m\u001b[38;5;124m!\u001b[39m\u001b[38;5;124m'\u001b[39m:\n\u001b[0;32m     27\u001b[0m         fact_c \u001b[38;5;241m==\u001b[39m \u001b[38;5;241m0\u001b[39m\n",
      "\u001b[1;31mKeyboardInterrupt\u001b[0m: "
     ]
    }
   ],
   "source": [
    "def arithmetic(ins):\n",
    "    def fact(val, fact_c):\n",
    "        def factorial(val):\n",
    "            rslt = 1\n",
    "            for i in range(val, 1, -1):\n",
    "                rslt *= i\n",
    "\n",
    "            return rslt\n",
    "        tmp = val\n",
    "        while fact_c != 0:\n",
    "            tmp = factorial(tmp)\n",
    "            fact_c -= 1\n",
    "        \n",
    "        return tmp\n",
    "\n",
    "\n",
    "    i = 0\n",
    "    condition = False\n",
    "    tmp_data = 0\n",
    "    while i <= len(ins) - 1:\n",
    "        \n",
    "        if ins[i] == '!':\n",
    "            fact_c = 0\n",
    "            t = i\n",
    "            while True:\n",
    "                if ins[t] == '!':\n",
    "                    fact_c == 0\n",
    "                else:\n",
    "                    break\n",
    "            tmp_fact = fact(ins[i-1 : fact_c], fact_c)\n",
    "        \n",
    "        elif ins[i] == 'x' and ins[i + 2] != '!':\n",
    "            tmp = int(ins[i - 1]) * int(ins[i + 1])\n",
    "            i += 1\n",
    "            ins = str(tmp) + ins[(i + 1) : len(ins)]\n",
    "            i -= 1\n",
    "            condition = True\n",
    "        \n",
    "        elif ins[i] == '+' and ins[i + 2] != '!':\n",
    "            tmp_data += int(ins[:i])\n",
    "        \n",
    "        else:\n",
    "            condition = False\n",
    "\n",
    "        if condition == False:\n",
    "            i += 1\n",
    "    ins = str(tmp_data + int(ins))\n",
    "    return ins\n",
    "\n",
    "print(arithmetic('3+2x4!!'))"
   ]
  },
  {
   "cell_type": "code",
   "execution_count": 10,
   "metadata": {},
   "outputs": [
    {
     "name": "stdout",
     "output_type": "stream",
     "text": [
      "240\n",
      "3628800\n"
     ]
    }
   ],
   "source": [
    "def factorial(val):\n",
    "    if val == 0:\n",
    "        return 1\n",
    "    else:\n",
    "        return val * factorial(val - 1)\n",
    "    # rslt = 1\n",
    "    # for i in range(val, 1, -1):\n",
    "    #     rslt *= i\n",
    "\n",
    "    # return rslt\n",
    "\n",
    "print(factorial(5) + factorial(5))\n",
    "print(factorial(10))"
   ]
  },
  {
   "cell_type": "code",
   "execution_count": 24,
   "metadata": {},
   "outputs": [
    {
     "name": "stdout",
     "output_type": "stream",
     "text": [
      "3+8\n"
     ]
    }
   ],
   "source": [
    "def arithmetic(data):\n",
    "    def factorial(val, index):\n",
    "        def _factorial(val):\n",
    "            if val == 0:\n",
    "                return 1\n",
    "            else:\n",
    "                return val * _factorial(val - 1)\n",
    "        fact_count = 0\n",
    "        for i in range(index, len(val)):\n",
    "            if val[i] == '!':\n",
    "                fact_count += 1\n",
    "        \n",
    "        tmp = int(val[index - 1])\n",
    "        while fact_count != 0:\n",
    "                tmp = _factorial(tmp)\n",
    "                fact_count -= 1\n",
    "        \n",
    "        if index + len(val) <= len(val):\n",
    "            return val[:index - 1] + str(tmp) + val[index + fact_count:]\n",
    "        else:\n",
    "            return val[:index - 1] + str(tmp)\n",
    "    \n",
    "    multiply_index = []\n",
    "    add_index = []\n",
    "    fact_index = []\n",
    "    \n",
    "    i = 0\n",
    "    while i < len(data):\n",
    "        if data[i] == '!':\n",
    "            fact_index.append(i)\n",
    "            while (i + 1) < len(data):\n",
    "                if data[i + 1] == '!':\n",
    "                    i += 1\n",
    "                else:\n",
    "                    break\n",
    "        i += 1\n",
    "            \n",
    "        \n",
    "    \n",
    "    for f_index in fact_index:\n",
    "        factorial(data, f_index)\n",
    "    \n",
    "    for i in range(len(data)):\n",
    "        if data[i] == 'x':\n",
    "            multiply_index.append(i)\n",
    "\n",
    "    for m_index in multiply_index:\n",
    "        tmp_multiply_data = int(data[m_index - 1]) * int(data[m_index + 1])\n",
    "        if (m_index - 1) == 0:\n",
    "            data = str(tmp_multiply_data) + data[m_index + 2]\n",
    "        else:\n",
    "            data = data[:m_index - 1] + str(tmp_multiply_data) + data[m_index + 2:]\n",
    "    \n",
    "    for i in range(len(data)):\n",
    "        if data[i] == '+':\n",
    "            add_index.append(i)\n",
    "    \n",
    "    for a_index in add_index:\n",
    "        tmp_add_data = int(data[a_index - 1]) + int(data[a_index + 1])\n",
    "        if a_index + 2 > len(data) and a_index - 2 <= 0:\n",
    "            data = str(tmp_add_data)\n",
    "\n",
    "        \n",
    "    return data\n",
    "\n",
    "print(arithmetic('3+2x4!!'))\n"
   ]
  },
  {
   "cell_type": "code",
   "execution_count": 26,
   "metadata": {},
   "outputs": [
    {
     "ename": "SyntaxError",
     "evalue": "invalid syntax (2435743035.py, line 3)",
     "output_type": "error",
     "traceback": [
      "\u001b[1;36m  Cell \u001b[1;32mIn[26], line 3\u001b[1;36m\u001b[0m\n\u001b[1;33m    a_data = [a[i] for i in range(len(a)) if a[i] isinstance]\u001b[0m\n\u001b[1;37m                                                  ^\u001b[0m\n\u001b[1;31mSyntaxError\u001b[0m\u001b[1;31m:\u001b[0m invalid syntax\n"
     ]
    }
   ],
   "source": [
    "a = '2x3+4'\n",
    "# a.replace('x', '*')\n"
   ]
  },
  {
   "cell_type": "code",
   "execution_count": 23,
   "metadata": {},
   "outputs": [
    {
     "name": "stdout",
     "output_type": "stream",
     "text": [
      "1\n"
     ]
    }
   ],
   "source": [
    "c = 0\n",
    "n = 10\n",
    "for i in range(1,(n + 1), 2):\n",
    "    if i % 5 == 0 or i % 10 == 0:\n",
    "        c += 1\n",
    "        \n",
    "print(c)"
   ]
  }
 ],
 "metadata": {
  "kernelspec": {
   "display_name": "Python 3",
   "language": "python",
   "name": "python3"
  },
  "language_info": {
   "codemirror_mode": {
    "name": "ipython",
    "version": 3
   },
   "file_extension": ".py",
   "mimetype": "text/x-python",
   "name": "python",
   "nbconvert_exporter": "python",
   "pygments_lexer": "ipython3",
   "version": "3.12.4"
  }
 },
 "nbformat": 4,
 "nbformat_minor": 2
}
