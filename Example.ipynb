{
 "cells": [
  {
   "cell_type": "code",
   "execution_count": 7,
   "metadata": {},
   "outputs": [
    {
     "name": "stdout",
     "output_type": "stream",
     "text": [
      "Found\n"
     ]
    }
   ],
   "source": [
    "txt = input(\"Enter the text: \")\n",
    "usr_input = input(\"Enter the substring to search for: \")\n",
    "txt_len = len(txt)\n",
    "\n",
    "def firstWordIndex(txt, usr_txt, i):\n",
    "    for i in range(i, len(txt)):\n",
    "        if usr_txt[0] == txt[i]:\n",
    "            return i\n",
    "    return -1\n",
    "\n",
    "tmp = 0\n",
    "c = 0\n",
    "while True:\n",
    "    j = 0\n",
    "    tmp = firstWordIndex(txt, usr_input, 0)\n",
    "    if tmp == -1:\n",
    "        print(\"Not Found\")\n",
    "        break\n",
    "    for i in range(tmp, tmp + len(usr_input)):\n",
    "        if j >= len(usr_input):\n",
    "            break\n",
    "        if usr_input[j] == txt[i]:\n",
    "            c += 1\n",
    "        j += 1\n",
    "    if c == len(usr_input):\n",
    "        print(\"Found\")\n",
    "        break\n"
   ]
  },
  {
   "cell_type": "code",
   "execution_count": 8,
   "metadata": {},
   "outputs": [
    {
     "name": "stdout",
     "output_type": "stream",
     "text": [
      "Not Found\n"
     ]
    }
   ],
   "source": [
    "txt = input(\"Enter the text: \")\n",
    "usr_txt = input(\"Enter the substring to search for: \")\n",
    "l = len(usr_txt)\n",
    "result = 'Not Found'\n",
    "\n",
    "for i in range(len(txt)):\n",
    "    if (i + l <= len(txt)) and (usr_txt == txt[i : i + l]):\n",
    "        result = \"Found\"\n",
    "        break\n",
    "\n",
    "print(result)\n"
   ]
  },
  {
   "cell_type": "code",
   "execution_count": 4,
   "metadata": {},
   "outputs": [
    {
     "name": "stdout",
     "output_type": "stream",
     "text": [
      "True\n"
     ]
    }
   ],
   "source": [
    "def prime(n):\n",
    "    prime = True\n",
    "    for i in range(2, n - 1):\n",
    "        if n / i == 0:\n",
    "            prime = False\n",
    "    \n",
    "    return prime\n",
    "\n",
    "print(prime(3))"
   ]
  },
  {
   "cell_type": "code",
   "execution_count": null,
   "metadata": {},
   "outputs": [],
   "source": [
    "data_dict = {}\n",
    "for i in range(int(input())):\n",
    "    data = input()\n",
    "    data_dict[len(data)] = [int(data)]\n",
    "\n",
    "\n",
    "print(data_dict)"
   ]
  },
  {
   "cell_type": "code",
   "execution_count": 1,
   "metadata": {},
   "outputs": [
    {
     "name": "stdout",
     "output_type": "stream",
     "text": [
      "1\n",
      "3\n",
      "5\n",
      "7\n"
     ]
    }
   ],
   "source": [
    "n = 8\n",
    "for i in range(1, n, 2):\n",
    "    print(i)\n",
    "    \n"
   ]
  },
  {
   "cell_type": "code",
   "execution_count": 3,
   "metadata": {},
   "outputs": [
    {
     "name": "stdout",
     "output_type": "stream",
     "text": [
      "1131415489601218943565795100204903227081043611191521875016945785727541837850835631156947382240678577958130457082619920575892247259536641565162052015873791984587740832529105244690388811884123764341191951045505346658616243271940197113909845536727278537099345629855586719369774070003700430783758997420676784016967207846280629229032107161669867260548988445514257193985499448939594496064045132362140265986193073249369770477606067680670176491669403034819961881455625195592566918830825514942947596537274845624628824234526597789737740896466553992435928786212515967483220976029505696699927284670563747137533019248313587076125412683415860129447566011455420749589952563543068288634631084965650682771552996256790845235702552186222358130016700834523443236821935793184701956510729781804354173890560727428048583995919729021726612291298420516067579036232337699453964191475175567557695392233803056825308599977441675784352815913461340394604901269542028838347101363733824484506660093348484440711931292537694657354337375724772230181534032647177531984537341478674327048457983786618703257405938924215709695994630557521063203263493209220738320923356309923267504401701760572026010829288042335606643089888710297380797578013056049576342838683057190662205291174822510536697756603029574043387983471518552602805333866357139101046336419769097397432285994219837046979109956303389604675889865795711176566670039156748153115943980043625399399731203066490601325311304719028898491856203766669164468791125249193754425845895000311561682974304641142538074897281723375955380661719801404677935614793635266265683339509760000000000000000000000000000000000000000000000000000000000000000000000000000000000000000000000000000000000000000000000000000000000000000000000000000000000000000000000000000000000\n"
     ]
    }
   ],
   "source": [
    "def arithmetic(data):\n",
    "    def factorial(val, index):\n",
    "        def _factorial(n):\n",
    "            if n == 0 or n == 1:\n",
    "                return 1\n",
    "            else:\n",
    "                return n * _factorial(n - 1)\n",
    "\n",
    "        fact_count = 0\n",
    "        while index < len(val) and val[index] == '!':\n",
    "            fact_count += 1\n",
    "            index += 1\n",
    "\n",
    "        num_start = index - fact_count - 1\n",
    "        num = int(val[num_start])\n",
    "\n",
    "        while fact_count > 0:\n",
    "            num = _factorial(num)\n",
    "            fact_count -= 1\n",
    "\n",
    "        return val[:num_start] + str(num) + val[index:]\n",
    "\n",
    "    def process_multiplications(data):\n",
    "        while 'x' in data:\n",
    "            index = data.find('x')\n",
    "            left_num_end = index - 1\n",
    "            right_num_start = index + 1\n",
    "            left_num = int(data[left_num_end])\n",
    "            right_num = int(data[right_num_start])\n",
    "            result = left_num * right_num\n",
    "            data = data[:left_num_end] + str(result) + data[right_num_start + 1:]\n",
    "        return data\n",
    "\n",
    "    def process_additions(data):\n",
    "        while '+' in data:\n",
    "            index = data.find('+')\n",
    "            left_num_end = index - 1\n",
    "            right_num_start = index + 1\n",
    "            left_num = int(data[left_num_end])\n",
    "            right_num = int(data[right_num_start])\n",
    "            result = left_num + right_num\n",
    "            data = data[:left_num_end] + str(result) + data[right_num_start + 1:]\n",
    "        return data\n",
    "\n",
    "    i = 0\n",
    "    while i < len(data):\n",
    "        if data[i] == '!':\n",
    "            data = factorial(data, i)\n",
    "            i = 0  # Restart to ensure all '!' are processed\n",
    "        else:\n",
    "            i += 1\n",
    "\n",
    "    data = process_multiplications(data)\n",
    "    data = process_additions(data)\n",
    "\n",
    "    return data\n",
    "\n",
    "print(arithmetic('2x6x7x8x9x6+76x87+3!!!'))\n"
   ]
  }
 ],
 "metadata": {
  "kernelspec": {
   "display_name": "Python 3",
   "language": "python",
   "name": "python3"
  },
  "language_info": {
   "codemirror_mode": {
    "name": "ipython",
    "version": 3
   },
   "file_extension": ".py",
   "mimetype": "text/x-python",
   "name": "python",
   "nbconvert_exporter": "python",
   "pygments_lexer": "ipython3",
   "version": "3.12.4"
  }
 },
 "nbformat": 4,
 "nbformat_minor": 2
}
